{
  "nbformat": 4,
  "nbformat_minor": 0,
  "metadata": {
    "colab": {
      "name": "predict_blood_pressure_by_BMI_HW2.ipynb",
      "provenance": [],
      "collapsed_sections": [],
      "authorship_tag": "ABX9TyNsRqTCspj5kly6DqmQwQEF",
      "include_colab_link": true
    },
    "kernelspec": {
      "name": "python3",
      "display_name": "Python 3"
    }
  },
  "cells": [
    {
      "cell_type": "markdown",
      "metadata": {
        "id": "view-in-github",
        "colab_type": "text"
      },
      "source": [
        "<a href=\"https://colab.research.google.com/github/ssss88155/123/blob/master/predict_blood_pressure_by_BMI_HW2.ipynb\" target=\"_parent\"><img src=\"https://colab.research.google.com/assets/colab-badge.svg\" alt=\"Open In Colab\"/></a>"
      ]
    },
    {
      "cell_type": "code",
      "metadata": {
        "id": "myQMDG33_2UL",
        "outputId": "155a926c-16ee-4038-be8a-0604e8061836",
        "colab": {
          "base_uri": "https://localhost:8080/",
          "height": 34
        }
      },
      "source": [
        "import numpy as np\n",
        "from sklearn.linear_model import LinearRegression\n",
        "\n",
        "X=np.array([[20.9],[21.5],[19.6],[26],[16.8],[25.9],[21.6],[21.4],[21.4],[25.3],[22.4],[26.1],[23],[16]])\n",
        "y=np.array([123,123,123,130,119,131,127,126,124,129,124,133,129,118])\n",
        "\n",
        "lm = LinearRegression()\n",
        "lm.fit(X, y)\n",
        "\n",
        "to_be_predicted = np.array([[30]]) #純測量 BMI30,的血壓正常預測值，若高出則有問題\n",
        "\n",
        "predicted_BD_pressure = lm.predict(to_be_predicted)\n",
        "\n",
        "print(predicted_BD_pressure)"
      ],
      "execution_count": 83,
      "outputs": [
        {
          "output_type": "stream",
          "text": [
            "[136.22864235]\n"
          ],
          "name": "stdout"
        }
      ]
    },
    {
      "cell_type": "code",
      "metadata": {
        "id": "nsOong2TAews",
        "outputId": "cfe286d6-3412-4b2d-af34-fba64bfe7d81",
        "colab": {
          "base_uri": "https://localhost:8080/",
          "height": 285
        }
      },
      "source": [
        "model = LinearRegression(fit_intercept=True)\n",
        "\n",
        "model.fit(X,y)\n",
        "\n",
        "Xfit = np.linspace(15,30)\n",
        "yfit = model.predict(Xfit[:,np.newaxis])\n",
        "\n",
        "plt.scatter(X,y)\n",
        "plt.plot(Xfit,yfit)"
      ],
      "execution_count": 84,
      "outputs": [
        {
          "output_type": "execute_result",
          "data": {
            "text/plain": [
              "[<matplotlib.lines.Line2D at 0x7f14f0f74d30>]"
            ]
          },
          "metadata": {
            "tags": []
          },
          "execution_count": 84
        },
        {
          "output_type": "display_data",
          "data": {
            "image/png": "[encoded data removed]",
            "text/plain": [
              "<Figure size 432x288 with 1 Axes>"
            ]
          },
          "metadata": {
            "tags": []
          }
        }
      ]
    },
    {
      "cell_type": "code",
      "metadata": {
        "id": "9ruMzKtm-1u9",
        "outputId": "953e1d32-6970-42ad-bb51-defca6647553",
        "colab": {
          "base_uri": "https://localhost:8080/",
          "height": 50
        }
      },
      "source": [
        "print(\"Model slope:\",model.coef_[0]) #斜率\n",
        "print(\"Model intercept\",model.intercept_) #常數(截距)"
      ],
      "execution_count": 85,
      "outputs": [
        {
          "output_type": "stream",
          "text": [
            "Model slope: 1.322042756120266\n",
            "Model intercept 96.567359670755\n"
          ],
          "name": "stdout"
        }
      ]
    }
  ]
}